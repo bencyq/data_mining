{
 "cells": [
  {
   "cell_type": "code",
   "execution_count": null,
   "metadata": {
    "_cell_guid": "b1076dfc-b9ad-4769-8c92-a6c4dae69d19",
    "_kg_hide-input": true,
    "_kg_hide-output": true,
    "_uuid": "8f2839f25d086af736a60e9eeb907d3b93b6e0e5"
   },
   "outputs": [],
   "source": [
    "# This Python 3 environment comes with many helpful analytics libraries installed\n",
    "# It is defined by the kaggle/python Docker image: https://github.com/kaggle/docker-python\n",
    "# For example, here's several helpful packages to load\n",
    "\n",
    "import numpy as np # linear algebra\n",
    "import pandas as pd # data processing, CSV file I/O (e.g. pd.read_csv)\n",
    "\n",
    "# Input data files are available in the read-only \"../input/\" directory\n",
    "# For example, running this (by clicking run or pressing Shift+Enter) will list all files under the input directory\n",
    "\n",
    "import os\n",
    "for dirname, _, filenames in os.walk('/kaggle/input'):\n",
    "    for filename in filenames:\n",
    "        print(os.path.join(dirname, filename))\n",
    "\n",
    "# You can write up to 5GB to the current directory (/kaggle/working/) that gets preserved as output when you create a version using \"Save & Run All\" \n",
    "# You can also write temporary files to /kaggle/temp/, but they won't be saved outside of the current session"
   ]
  },
  {
   "cell_type": "markdown",
   "metadata": {},
   "source": [
    "## Stroke Prediction Using Machine Learning\n",
    "### Li-Chia Chen\n",
    "\n",
    "## I. Introduction\n",
    "Stroke is the fifth cause of death in the United States, according to the Heart Disease and Stroke Statistics 2020 report. Those who suffer from stroke, if luckily survived, may also suffer from expensive medical bills and even disability. Foreseeing the underlying risk factors of stroke is highly valuable to stroke screening and prevention. In this project, the National Health and Nutrition Examination Survey (NHANES) data from the National Center for Health Statistics (NCHS) is used to develop machine learning models. The NHANES dataset holds an abundance of variables, ranging from demographics, medical history, physical examinations, biochemistry to dietary and lifestyle questionnaires. Known features contributing to stroke, such as blood pressure, serum cholesterol level, alcohol consumption, weight, etc., and additional features will be selected for correlation evaluation and machine learning model development. \n",
    "\n",
    "Main elements include data cleaning, imbalance dataset processing, feature selection from over 1,000 variables, and model training."
   ]
  },
  {
   "cell_type": "code",
   "execution_count": null,
   "metadata": {},
   "outputs": [],
   "source": [
    "import sklearn\n",
    "import pandas as pd\n",
    "import numpy as np\n",
    "import matplotlib.pyplot as plt\n",
    "import seaborn as sns\n"
   ]
  },
  {
   "cell_type": "markdown",
   "metadata": {},
   "source": [
    "## II. Data Loading and Cleaning\n",
    "### Datasets\n",
    "- NHANES Datasets from 2013-2014<br><br>\n",
    "https://www.kaggle.com/cdc/national-health-and-nutrition-examination-survey\n",
    "<br><br>\n",
    "- Variable Search<br><br>\n",
    "https://wwwn.cdc.gov/nchs/nhanes/search/default.aspx\n",
    "<br><br>\n",
    "- Codebook<br><br>\n",
    "https://wwwn.cdc.gov/nchs/nhanes/Search/DataPage.aspx?Component=Demographics&CycleBeginYear=2013\n",
    "<br><br>\n"
   ]
  },
  {
   "cell_type": "code",
   "execution_count": null,
   "metadata": {},
   "outputs": [],
   "source": [
    "# datasets path and df names\n",
    "path = [\n",
    "    '/kaggle/input/national-health-and-nutrition-examination-survey/demographic.csv',\n",
    "    '/kaggle/input/national-health-and-nutrition-examination-survey/examination.csv',\n",
    "    '/kaggle/input/national-health-and-nutrition-examination-survey/questionnaire.csv',\n",
    "    '/kaggle/input/national-health-and-nutrition-examination-survey/labs.csv',\n",
    "    '/kaggle/input/national-health-and-nutrition-examination-survey/diet.csv'  \n",
    "]\n",
    "\n",
    "dfname = [\n",
    "    'dm',\n",
    "    'exam',\n",
    "    'qs',\n",
    "    'lab',\n",
    "    'diet'\n",
    "]"
   ]
  },
  {
   "cell_type": "code",
   "execution_count": null,
   "metadata": {},
   "outputs": [],
   "source": [
    "# import datasets as dfs\n",
    "\n",
    "df = {}\n",
    "dfn = dict(zip(dfname, path))\n",
    "df = {key: pd.read_csv(value) for key, value in dfn.items()}"
   ]
  },
  {
   "cell_type": "code",
   "execution_count": null,
   "metadata": {},
   "outputs": [],
   "source": [
    "Xs = {k: v for k, v in df.items() if k in ['dm', 'exam', 'labs']}\n",
    "\n",
    "dfs = Xs.values()\n",
    "\n",
    "from functools import partial, reduce \n",
    "inner_merge = partial(pd.merge, how='inner', on='SEQN') \n",
    "\n",
    "c = reduce(inner_merge, dfs)\n",
    "c\n",
    "\n",
    "# check if there are duplicated SEQN\n",
    "c.SEQN.duplicated().value_counts()\n"
   ]
  },
  {
   "cell_type": "code",
   "execution_count": null,
   "metadata": {},
   "outputs": [],
   "source": [
    "# show combined df\n",
    "qs = df['qs'][['SEQN','MCQ160F']]\n",
    "qs"
   ]
  },
  {
   "cell_type": "code",
   "execution_count": null,
   "metadata": {},
   "outputs": [],
   "source": [
    "c = pd.merge(c,qs, how='left', on='SEQN')\n",
    "c"
   ]
  },
  {
   "cell_type": "code",
   "execution_count": null,
   "metadata": {},
   "outputs": [],
   "source": [
    "c.MCQ160F.value_counts()"
   ]
  },
  {
   "cell_type": "markdown",
   "metadata": {},
   "source": [
    "### Exclude rows with null values or NA for MCQ160F\n",
    "The prediction target in the dataset is MCQ160F, a questionnaire question \"Has a doctor or other health professional ever told you that you had a stroke?\"\n"
   ]
  },
  {
   "cell_type": "code",
   "execution_count": null,
   "metadata": {},
   "outputs": [],
   "source": [
    "# MCQ160F (target feature): exclude null values and NA\n",
    "c = c[(c.MCQ160F.notnull()) & (c.MCQ160F != 9)]\n",
    "\n",
    "# check MCQ160F\n",
    "c.MCQ160F.describe()"
   ]
  },
  {
   "cell_type": "code",
   "execution_count": null,
   "metadata": {},
   "outputs": [],
   "source": [
    "# target varoable counts\n",
    "c.MCQ160F.value_counts()"
   ]
  },
  {
   "cell_type": "markdown",
   "metadata": {},
   "source": [
    "### Codebook\n",
    "- Codebook with variable and sas label parsed with Beautiful Soup:\n",
    "https://www.kaggle.com/lcchennn/nhanes-2013-2014-codebook-with-sas-label"
   ]
  },
  {
   "cell_type": "code",
   "execution_count": null,
   "metadata": {},
   "outputs": [],
   "source": [
    "# import code book\n",
    "cbook = pd.read_csv('/kaggle/input/nhanes-2013-2014-codebook-with-sas-label/nhanes_2013_2014_codebook.csv')\n",
    "\n",
    "cbook"
   ]
  },
  {
   "cell_type": "markdown",
   "metadata": {},
   "source": [
    "### Data Cleaning"
   ]
  },
  {
   "cell_type": "code",
   "execution_count": null,
   "metadata": {},
   "outputs": [],
   "source": [
    "# exclude non-numeric values\n",
    "d = c.select_dtypes(['number'])\n",
    "\n",
    "# exclue columns that have over 50% NaN\n",
    "d = d.dropna(thresh = 0.5*len(d), axis =1)\n",
    "\n",
    "print(len(d.columns), 'columns left')"
   ]
  },
  {
   "cell_type": "code",
   "execution_count": null,
   "metadata": {},
   "outputs": [],
   "source": [
    "# changing target variable coding from 1, 2 to 0 (Negative), 1 (Positive)\n",
    "d['MCQ160F']=d.apply(lambda x: 1 if x.MCQ160F == 1 else 0, axis='columns')\n",
    "d.MCQ160F.value_counts()"
   ]
  },
  {
   "cell_type": "markdown",
   "metadata": {},
   "source": [
    "## III. Feature Selection\n",
    "Reference: \n",
    "A data-driven approach to predicting diabetes and cardiovascular disease with machine learning<br><br>\n",
    "https://pubmed.ncbi.nlm.nih.gov/31694707/"
   ]
  },
  {
   "cell_type": "code",
   "execution_count": null,
   "metadata": {},
   "outputs": [],
   "source": [
    "vals = d.MCQ160F.value_counts()\n",
    "\n",
    "plt.figure(figsize=(8,6))\n",
    "plt.rc('font', size=12)\n",
    "\n",
    "ax = vals.plot.bar(rot=0, color='#4B4E6D')\n",
    "\n",
    "for i in range(len(vals)):\n",
    "    ax.annotate(vals[i], xy=[vals.index[i], vals[i]], ha='center', va='bottom')"
   ]
  },
  {
   "cell_type": "code",
   "execution_count": null,
   "metadata": {},
   "outputs": [],
   "source": [
    "from sklearn.impute import SimpleImputer\n",
    "imp_mode=SimpleImputer(strategy='most_frequent')\n",
    "\n",
    "d = pd.DataFrame(imp_mode.fit_transform(d), columns=d.columns)"
   ]
  },
  {
   "cell_type": "markdown",
   "metadata": {},
   "source": [
    "### Train/Test Split"
   ]
  },
  {
   "cell_type": "code",
   "execution_count": null,
   "metadata": {},
   "outputs": [],
   "source": [
    "X = d.loc[:, d.columns != 'MCQ160F']\n",
    "y = d.MCQ160F"
   ]
  },
  {
   "cell_type": "code",
   "execution_count": null,
   "metadata": {},
   "outputs": [],
   "source": [
    "print('X shape:', X.shape)\n",
    "print('y shape:', y.shape)"
   ]
  },
  {
   "cell_type": "code",
   "execution_count": null,
   "metadata": {},
   "outputs": [],
   "source": [
    "from sklearn.model_selection import train_test_split\n",
    "X_train, X_test, y_train, y_test = train_test_split(X, y, test_size=0.2, random_state=12)"
   ]
  },
  {
   "cell_type": "markdown",
   "metadata": {},
   "source": [
    "### XGBClassifier for feature selection\n",
    "From the classificaiton result, the accuracy is pretty decent. However once look into the confusion matrix we can see there is only 1 correct prediction for class 1 (recall for class 1 is bad). This is commonly seen for imbalanced dataset, which the classes in the dataset have highly uneven sample sizes. Imbalanced problems is often seen in healthcare  datasets."
   ]
  },
  {
   "cell_type": "code",
   "execution_count": null,
   "metadata": {},
   "outputs": [],
   "source": [
    "from xgboost import XGBClassifier\n",
    "from sklearn.metrics import classification_report, accuracy_score, confusion_matrix\n",
    "\n",
    "model = XGBClassifier()\n",
    "model.fit(X_train, y_train)\n",
    "y_pred = model.predict(X_test)\n",
    "\n",
    "accuracy = accuracy_score(y_test, y_pred)\n",
    "print(\"Accuracy: %.2f%%\" % (accuracy * 100.0))\n",
    "\n",
    "def confusion(y_test, y_pred):\n",
    "    conf = pd.DataFrame(confusion_matrix(y_test, y_pred), index=['True[0]', 'True[1]'], columns=['Predict[0]', 'Predict[1]'])\n",
    "    print('Confusion Matrix:')\n",
    "    print(conf)\n",
    "    return conf\n",
    "\n",
    "confusion(y_test, y_pred)"
   ]
  },
  {
   "cell_type": "markdown",
   "metadata": {},
   "source": [
    "### Upsampling minority class\n",
    "In the following cells the minority class is upsampled with SMOTE (Synthetic Minority Oversampling Technique)."
   ]
  },
  {
   "cell_type": "code",
   "execution_count": null,
   "metadata": {},
   "outputs": [],
   "source": [
    "y_test.value_counts()\n"
   ]
  },
  {
   "cell_type": "markdown",
   "metadata": {},
   "source": [
    "#### Oversampling with SMOTE"
   ]
  },
  {
   "cell_type": "code",
   "execution_count": null,
   "metadata": {},
   "outputs": [],
   "source": [
    "from imblearn.over_sampling import SMOTE\n",
    "\n",
    "smote = SMOTE()\n",
    "X_train_sm, y_train_sm = smote.fit_sample(X_train, y_train)\n",
    "X_test_sm, y_test_sm = smote.fit_sample(X_test, y_test)\n",
    "\n",
    "X_train_sm = pd.DataFrame(X_train_sm, columns=X.columns)\n",
    "X_test_sm = pd.DataFrame(X_test_sm, columns=X.columns)"
   ]
  },
  {
   "cell_type": "code",
   "execution_count": null,
   "metadata": {},
   "outputs": [],
   "source": [
    "print(y_train_sm.value_counts())\n",
    "print(y_test_sm.value_counts())"
   ]
  },
  {
   "cell_type": "markdown",
   "metadata": {},
   "source": [
    "#### Check the Classification Result Again\n",
    "After oversampling, the classification result is more reasonable."
   ]
  },
  {
   "cell_type": "code",
   "execution_count": null,
   "metadata": {},
   "outputs": [],
   "source": [
    "model = XGBClassifier()\n",
    "model.fit(X_train_sm, y_train_sm)\n",
    "y_pred_sm = model.predict(X_test_sm)\n",
    "\n",
    "accuracy = accuracy_score(y_test_sm, y_pred_sm)\n",
    "print(\"Accuracy: %.2f%%\" % (accuracy * 100.0))\n",
    "conf = pd.DataFrame(confusion_matrix(y_test_sm, y_pred_sm), index=['True[0]', 'True[1]'], columns=['Predict[0]', 'Predict[1]'])\n",
    "conf"
   ]
  },
  {
   "cell_type": "markdown",
   "metadata": {},
   "source": [
    "### Feature Selection with XGBoost"
   ]
  },
  {
   "cell_type": "code",
   "execution_count": null,
   "metadata": {},
   "outputs": [],
   "source": [
    "from xgboost import XGBClassifier\n",
    "from matplotlib import pyplot\n",
    "\n",
    "# fit model no training data\n",
    "model = XGBClassifier()\n",
    "model.fit(X_train_sm, y_train_sm)\n",
    "\n",
    "# Features selected by XGBoost\n",
    "keys = list(model.get_booster().feature_names)\n",
    "values = list(model.feature_importances_)\n",
    "\n",
    "data = pd.DataFrame(data=values, index=keys, columns=[\"score\"]).sort_values(by = \"score\", ascending=False)\n",
    "\n",
    "# Top 24 features\n",
    "xgbfs_ = data[:24]\n",
    "\n",
    "# Plot feature score\n",
    "xgbfs_.sort_values(by='score').plot(kind='barh', figsize=(10, 8), color='#4B4E6D')\n"
   ]
  },
  {
   "cell_type": "code",
   "execution_count": null,
   "metadata": {},
   "outputs": [],
   "source": [
    "xgbfs_.reset_index()"
   ]
  },
  {
   "cell_type": "markdown",
   "metadata": {},
   "source": [
    "### Merge SAS Labels from the codebook"
   ]
  },
  {
   "cell_type": "code",
   "execution_count": null,
   "metadata": {},
   "outputs": [],
   "source": [
    "xgbfs = xgbfs_.reset_index()\n",
    "xgbfs.columns=['variable', 'score']\n",
    "\n",
    "xgbfs['variable'] = xgbfs['variable'].apply(lambda x: x.upper())\n",
    "\n",
    "xgbfs = pd.merge(left=xgbfs, right=cbook, left_on='variable', right_on='variable', how='left')\n",
    "xgbfs"
   ]
  },
  {
   "cell_type": "code",
   "execution_count": null,
   "metadata": {},
   "outputs": [],
   "source": [
    "# final variables\n",
    "var_list = xgbfs.variable.tolist()\n",
    "var_list.append('MCQ160F')\n",
    "print(var_list)"
   ]
  },
  {
   "cell_type": "code",
   "execution_count": null,
   "metadata": {},
   "outputs": [],
   "source": [
    "#final df\n",
    "df_final = d.filter(var_list)\n",
    "df_final"
   ]
  },
  {
   "cell_type": "code",
   "execution_count": null,
   "metadata": {},
   "outputs": [],
   "source": [
    "# sns.axes_style(\"white\")\n",
    "ax = plt.subplots(figsize=(20,20))\n",
    "\n",
    "corr = df_final.corr()\n",
    "\n",
    "# sns.heatmap(corr, vmin=-1, vmax=1, cmap=sns.cm.rocket_r)\n",
    "sns.heatmap(corr, cmap=sns.cm.rocket_r)"
   ]
  },
  {
   "cell_type": "markdown",
   "metadata": {},
   "source": [
    "## IV. Model Training"
   ]
  },
  {
   "cell_type": "markdown",
   "metadata": {},
   "source": [
    "### Train/Test Split"
   ]
  },
  {
   "cell_type": "code",
   "execution_count": null,
   "metadata": {},
   "outputs": [],
   "source": [
    "X_ = df_final.loc[:, df_final.columns != 'MCQ160F']\n",
    "y = df_final.MCQ160F"
   ]
  },
  {
   "cell_type": "markdown",
   "metadata": {},
   "source": [
    "### Data Normalization"
   ]
  },
  {
   "cell_type": "code",
   "execution_count": null,
   "metadata": {},
   "outputs": [],
   "source": [
    "from sklearn.preprocessing import MinMaxScaler\n",
    "\n",
    "minmax=MinMaxScaler()\n",
    "X = pd.DataFrame(minmax.fit_transform(X_), columns=X_.columns)\n",
    "X"
   ]
  },
  {
   "cell_type": "markdown",
   "metadata": {},
   "source": [
    "### Upsampling Minoroty Class with SMOTE\n",
    "Note that it is important to only oversample after train/test split, so the testing data will not leak."
   ]
  },
  {
   "cell_type": "code",
   "execution_count": null,
   "metadata": {},
   "outputs": [],
   "source": [
    "from sklearn.model_selection import train_test_split \n",
    "\n",
    "X_train, X_test, y_train, y_test = train_test_split(X, y, random_state=11)"
   ]
  },
  {
   "cell_type": "code",
   "execution_count": null,
   "metadata": {},
   "outputs": [],
   "source": [
    "from imblearn.over_sampling import SMOTE\n",
    "\n",
    "smote = SMOTE()\n",
    "X_train_sm, y_train_sm = smote.fit_sample(X_train, y_train)\n",
    "# X_test_sm, y_test_sm = smote.fit_sample(X_test, y_test)\n",
    "\n",
    "X_train_sm = pd.DataFrame(X_train_sm, columns=X.columns)\n",
    "# X_test_sm = pd.DataFrame(X_test_sm, columns=X.columns)"
   ]
  },
  {
   "cell_type": "code",
   "execution_count": null,
   "metadata": {},
   "outputs": [],
   "source": [
    "print('X train shape: ',X_train_sm.shape)\n",
    "print('y train values: \\n', y_train_sm.value_counts())\n",
    "print()\n",
    "print('X test shape: ',X_test.shape)\n",
    "print('y test values: \\n', y_test.value_counts())"
   ]
  },
  {
   "cell_type": "code",
   "execution_count": null,
   "metadata": {},
   "outputs": [],
   "source": [
    "mscore=[]"
   ]
  },
  {
   "cell_type": "markdown",
   "metadata": {},
   "source": [
    "### Logistic Regression"
   ]
  },
  {
   "cell_type": "code",
   "execution_count": null,
   "metadata": {},
   "outputs": [],
   "source": [
    "from sklearn.linear_model import LogisticRegression\n",
    "\n",
    "clf = LogisticRegression(max_iter=100, solver='lbfgs', class_weight='balanced', random_state=11).fit(X_train_sm, y_train_sm)\n",
    "y_pred = clf.predict(X_test)\n",
    "\n",
    "print('Accuracy Score:', clf.score(X_test, y_test))\n",
    "print('Prediction:', y_pred)\n",
    "\n",
    "mscore.append(['Logistic Regression', clf.score(X_test, y_test)])\n",
    "\n",
    "print(classification_report(y_test, y_pred))\n",
    "confusion(y_test, y_pred)"
   ]
  },
  {
   "cell_type": "markdown",
   "metadata": {},
   "source": [
    "### Random Forest"
   ]
  },
  {
   "cell_type": "code",
   "execution_count": null,
   "metadata": {},
   "outputs": [],
   "source": [
    "from sklearn.ensemble import RandomForestClassifier\n",
    "\n",
    "rnd_clf = RandomForestClassifier(n_estimators=150, criterion='gini', max_depth=5, random_state=11)\n",
    "rnd_clf.fit(X_train_sm, y_train_sm)\n",
    "\n",
    "y_pred = rnd_clf.predict(X_test)\n",
    "\n",
    "print('Accuracy Score:', rnd_clf.score(X_test, y_test))\n",
    "print('Prediction:', y_pred)\n",
    "\n",
    "mscore.append(['Random Forest', rnd_clf.score(X_test, y_test)])\n",
    "\n",
    "print(classification_report(y_test, y_pred))\n",
    "confusion(y_test, y_pred)"
   ]
  },
  {
   "cell_type": "markdown",
   "metadata": {},
   "source": [
    "### Gradient Boosting Decision Trees"
   ]
  },
  {
   "cell_type": "code",
   "execution_count": null,
   "metadata": {},
   "outputs": [],
   "source": [
    "from sklearn.ensemble import GradientBoostingClassifier\n",
    "\n",
    "gbc = GradientBoostingClassifier(learning_rate=0.1, n_estimators=10, random_state=11)\n",
    "gbc.fit(X_train_sm, y_train_sm)\n",
    "\n",
    "y_pred = gbc.predict(X_test)\n",
    "\n",
    "print('Accuracy Score:', gbc.score(X_test, y_test))\n",
    "print('Prediction:', y_pred)\n",
    "\n",
    "mscore.append(['GradientBoosting', gbc.score(X_test, y_test)])\n",
    "\n",
    "print(classification_report(y_test, y_pred))\n",
    "confusion(y_test, y_pred)"
   ]
  },
  {
   "cell_type": "markdown",
   "metadata": {},
   "source": [
    "### AdaBoostClassifier"
   ]
  },
  {
   "cell_type": "code",
   "execution_count": null,
   "metadata": {},
   "outputs": [],
   "source": [
    "from sklearn.ensemble import AdaBoostClassifier\n",
    "\n",
    "ada = AdaBoostClassifier(learning_rate=0.01, n_estimators=30, random_state=11)\n",
    "ada.fit(X_train_sm, y_train_sm)\n",
    "\n",
    "y_pred = ada.predict(X_test)\n",
    "\n",
    "print('Accuracy Score:', ada.score(X_test, y_test))\n",
    "print('Prediction:', y_pred)\n",
    "\n",
    "mscore.append(['Adaptive Boosting', ada.score(X_test, y_test)])\n",
    "\n",
    "# from sklearn.metrics import classification_report\n",
    "print(classification_report(y_test, y_pred))\n",
    "confusion(y_test, y_pred)"
   ]
  },
  {
   "cell_type": "markdown",
   "metadata": {},
   "source": [
    "### SVM"
   ]
  },
  {
   "cell_type": "code",
   "execution_count": null,
   "metadata": {},
   "outputs": [],
   "source": [
    "from sklearn.svm import SVC\n",
    "svm_clf = SVC(kernel='sigmoid', gamma='auto', random_state=11)\n",
    "svm_clf.fit(X_train_sm, y_train_sm)\n",
    "y_pred = svm_clf.predict(X_test)\n",
    "\n",
    "print('Accuracy Score:', svm_clf.score(X_test, y_test))\n",
    "print('Prediction:', y_pred)\n",
    "\n",
    "mscore.append(['SVM', svm_clf.score(X_test, y_test)])\n",
    "\n",
    "# from sklearn.metrics import classification_report\n",
    "print(classification_report(y_test, y_pred))\n",
    "confusion(y_test, y_pred)"
   ]
  },
  {
   "cell_type": "markdown",
   "metadata": {},
   "source": [
    "### XGBoost"
   ]
  },
  {
   "cell_type": "code",
   "execution_count": null,
   "metadata": {},
   "outputs": [],
   "source": [
    "from xgboost import XGBClassifier\n",
    "\n",
    "xgbc = XGBClassifier(eta=0.01, max_depth=3)\n",
    "# xgbc = XGBClassifier(eta=0.01)\n",
    "xgbc.fit(X_train_sm, y_train_sm)\n",
    "\n",
    "y_pred = xgbc.predict(X_test)\n",
    "\n",
    "print('Accuracy Score:', svm_clf.score(X_test, y_test))\n",
    "print('Prediction:', y_pred)\n",
    "\n",
    "mscore.append(['XGBoost', xgbc.score(X_test, y_test)])\n",
    "\n",
    "from sklearn.metrics import classification_report\n",
    "print(classification_report(y_test, y_pred))\n",
    "confusion(y_test, y_pred)"
   ]
  },
  {
   "cell_type": "markdown",
   "metadata": {},
   "source": [
    "## V. Model Comparison"
   ]
  },
  {
   "cell_type": "code",
   "execution_count": null,
   "metadata": {},
   "outputs": [],
   "source": [
    "mscore.sort(key=lambda x: x[1], reverse=True)\n",
    "mscore"
   ]
  },
  {
   "cell_type": "code",
   "execution_count": null,
   "metadata": {},
   "outputs": [],
   "source": [
    "model = list(i[0] for i in mscore)\n",
    "score = list(round(i[1]*100,2) for i in mscore)\n",
    "\n",
    "print('Accracy Score: \\n')\n",
    "for m,s in zip(model, score):\n",
    "    print(f'{m}: {s}%')\n",
    "  \n",
    " \n",
    "# creating horizontal bar plot\n",
    "plt.barh(model, score, height = 0.5, color='#4B4E6D') # this color is called independence, how cool!\n",
    " \n",
    "plt.xlabel(\"Accuracy Score\")\n",
    "plt.ylabel(\"Model\")\n",
    "plt.title(\"Model Comparison\")\n",
    "plt.gca().invert_yaxis()\n",
    "plt.show()"
   ]
  },
  {
   "cell_type": "markdown",
   "metadata": {},
   "source": [
    "## VI. Future Work\n",
    "1. Model optimization/hyperparameter tuning\n",
    "2. Ensamble\n",
    "3. ROC/AUC comparison\n"
   ]
  }
 ],
 "metadata": {
  "kernelspec": {
   "display_name": "Python 3 (ipykernel)",
   "language": "python",
   "name": "python3"
  },
  "language_info": {
   "codemirror_mode": {
    "name": "ipython",
    "version": 3
   },
   "file_extension": ".py",
   "mimetype": "text/x-python",
   "name": "python",
   "nbconvert_exporter": "python",
   "pygments_lexer": "ipython3",
   "version": "3.8.12"
  }
 },
 "nbformat": 4,
 "nbformat_minor": 4
}
