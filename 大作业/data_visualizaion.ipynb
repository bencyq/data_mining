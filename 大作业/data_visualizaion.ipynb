{
 "cells": [
  {
   "cell_type": "code",
   "execution_count": null,
   "id": "87421b93",
   "metadata": {},
   "outputs": [],
   "source": [
    "import numpy as np\n",
    "import pandas as pd\n",
    "import matplotlib.pyplot as plt\n",
    "\n",
    "def draw(city, h_temp_arr, l_temp_arr):\n",
    "    for i in range(31):  # 把气温的数据从str 转化为 int\n",
    "        h_temp_arr[i] = int(h_temp_arr[i][:-1])\n",
    "        l_temp_arr[i] = int(l_temp_arr[i][:-1])\n",
    "\n",
    "    date = []\n",
    "    for i in range(1, 32):  # 设定日期数组\n",
    "        date.append(i)\n",
    "\n",
    "    # 正式画图\n",
    "    plt.rcParams['font.sans-serif'] = 'SimHei'  # 用来设置字体样式\n",
    "    plt.rcParams['axes.unicode_minus'] = False  # 设置正常显示符号\n",
    "    plt.style.use('fivethirtyeight')  # 设置主题\n",
    "    fig = plt.figure(figsize=(15, 8))\n",
    "    plt.title(city + ' 三月份最高温度/最低温度折线图')\n",
    "    plt.xlabel('日期', fontsize=14)\n",
    "    plt.ylabel('温度/℃', fontsize=14)\n",
    "    plt.xlim(0.5, 31.5)\n",
    "    plt.plot(date, h_temp_arr, color='deeppink', linewidth=1.5, linestyle='--', label='每日最高气温', marker='o')\n",
    "    plt.plot(date, l_temp_arr, color='darkblue', linewidth=1.5, linestyle=':', label='每日最低气温', marker='+')\n",
    "    plt.legend()  # 显示 x、y 轴说明\n",
    "    plt.grid()  # 显示网格线\n",
    "    # plt.show()\n",
    "    plt.savefig(city + \" 三月份气温折线图.png\")\n"
   ]
  },
  {
   "cell_type": "code",
   "execution_count": null,
   "id": "57f221e9",
   "metadata": {},
   "outputs": [],
   "source": []
  }
 ],
 "metadata": {
  "kernelspec": {
   "display_name": "Python 3 (ipykernel)",
   "language": "python",
   "name": "python3"
  },
  "language_info": {
   "codemirror_mode": {
    "name": "ipython",
    "version": 3
   },
   "file_extension": ".py",
   "mimetype": "text/x-python",
   "name": "python",
   "nbconvert_exporter": "python",
   "pygments_lexer": "ipython3",
   "version": "3.8.12"
  }
 },
 "nbformat": 4,
 "nbformat_minor": 5
}
